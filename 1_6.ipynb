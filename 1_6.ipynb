{
  "nbformat": 4,
  "nbformat_minor": 0,
  "metadata": {
    "colab": {
      "provenance": []
    },
    "kernelspec": {
      "name": "python3",
      "display_name": "Python 3"
    },
    "language_info": {
      "name": "python"
    }
  },
  "cells": [
    {
      "cell_type": "code",
      "execution_count": null,
      "metadata": {
        "colab": {
          "base_uri": "https://localhost:8080/"
        },
        "id": "sjjZIxrQ8qiW",
        "outputId": "92d0ff24-174d-47a7-dfe7-4d395e8d6b28"
      },
      "outputs": [
        {
          "output_type": "stream",
          "name": "stdout",
          "text": [
            "sin30= 0.8939966636005579\n",
            "log(40)= 3.6888794541139363\n",
            "exp(1230)= 2.3538526683702e+17\n"
          ]
        }
      ],
      "source": [
        "import numpy as np\n",
        "a=90\n",
        "print(\"sin30=\",np.sin(a))\n",
        "b=40\n",
        "print(\"log(40)=\",np.log(40))\n",
        "c=1230\n",
        "print(\"exp(1230)=\",np.exp(40))"
      ]
    }
  ]
}