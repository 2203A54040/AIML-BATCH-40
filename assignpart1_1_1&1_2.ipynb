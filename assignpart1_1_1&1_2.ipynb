{
  "nbformat": 4,
  "nbformat_minor": 0,
  "metadata": {
    "colab": {
      "provenance": []
    },
    "kernelspec": {
      "name": "python3",
      "display_name": "Python 3"
    },
    "language_info": {
      "name": "python"
    }
  },
  "cells": [
    {
      "cell_type": "code",
      "execution_count": null,
      "metadata": {
        "colab": {
          "base_uri": "https://localhost:8080/"
        },
        "id": "DWcDcsH67SnU",
        "outputId": "5b267bcd-95f9-4e61-e3ed-fcb63bbc7798"
      },
      "outputs": [
        {
          "output_type": "stream",
          "name": "stdout",
          "text": [
            "list = [1, 2, 3]\n",
            "array = [1 2 3]\n"
          ]
        }
      ],
      "source": [
        "import numpy as np\n",
        "list1=[1,2,3]\n",
        "array1=np.array(list1)\n",
        "print(\"list =\",list1)\n",
        "print(\"array =\",array1)"
      ]
    }
  ]
}