{
  "nbformat": 4,
  "nbformat_minor": 0,
  "metadata": {
    "colab": {
      "provenance": []
    },
    "kernelspec": {
      "name": "python3",
      "display_name": "Python 3"
    },
    "language_info": {
      "name": "python"
    }
  },
  "cells": [
    {
      "cell_type": "code",
      "execution_count": null,
      "metadata": {
        "id": "1XHfWOBQ8atL",
        "outputId": "ccceb60e-e607-4dfc-9175-4c0ffcda3cae",
        "colab": {
          "base_uri": "https://localhost:8080/"
        }
      },
      "outputs": [
        {
          "output_type": "stream",
          "name": "stdout",
          "text": [
            "Addition of two: [ 6  8 10 12]\n",
            "dimension of array3 is 1\n"
          ]
        }
      ],
      "source": [
        "import numpy as np\n",
        "list1=[1,2,3,4]\n",
        "array1=np.array(list1)\n",
        "list2=[5,6,7,8]\n",
        "array2=np.array(list2)\n",
        "array3=array1+array2\n",
        "print(\"Addition of two:\",array3)\n",
        "print(\"dimension of array3 is\",array3.ndim)"
      ]
    }
  ]
}