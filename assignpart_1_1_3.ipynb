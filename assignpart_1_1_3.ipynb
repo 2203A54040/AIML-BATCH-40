{
  "nbformat": 4,
  "nbformat_minor": 0,
  "metadata": {
    "colab": {
      "provenance": []
    },
    "kernelspec": {
      "name": "python3",
      "display_name": "Python 3"
    },
    "language_info": {
      "name": "python"
    }
  },
  "cells": [
    {
      "cell_type": "code",
      "execution_count": null,
      "metadata": {
        "colab": {
          "base_uri": "https://localhost:8080/"
        },
        "id": "ikRKIyRS7z2w",
        "outputId": "082c4e18-b3c1-4f0a-af00-274cae7fcb37"
      },
      "outputs": [
        {
          "output_type": "stream",
          "name": "stdout",
          "text": [
            "type of a= <class 'int'>\n",
            "type of b= <class 'str'>\n",
            "type of c= <class 'float'>\n",
            "type of d= <class 'list'>\n"
          ]
        }
      ],
      "source": [
        "a=1\n",
        "print(\"type of a=\",type(a))\n",
        "b=\"malavika\"\n",
        "print(\"type of b=\",type(b))\n",
        "c=1.43\n",
        "print(\"type of c=\",type(c))\n",
        "d=[1,2,3,4]\n",
        "print(\"type of d=\",type(d))"
      ]
    }
  ]
}