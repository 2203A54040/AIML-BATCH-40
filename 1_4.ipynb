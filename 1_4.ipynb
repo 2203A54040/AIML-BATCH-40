{
  "nbformat": 4,
  "nbformat_minor": 0,
  "metadata": {
    "colab": {
      "provenance": []
    },
    "kernelspec": {
      "name": "python3",
      "display_name": "Python 3"
    },
    "language_info": {
      "name": "python"
    }
  },
  "cells": [
    {
      "cell_type": "code",
      "execution_count": null,
      "metadata": {
        "id": "2AmmCC148Kow",
        "outputId": "ef93f855-8382-41b3-b3b8-8906dcdaa770",
        "colab": {
          "base_uri": "https://localhost:8080/"
        }
      },
      "outputs": [
        {
          "output_type": "stream",
          "name": "stdout",
          "text": [
            "multiplication of two: [ 5 12 21 32]\n",
            "division of arrays [0.2        0.33333333 0.42857143 0.5       ]\n",
            "array1 raised to the power of array2 [    1    64  2187 65536]\n"
          ]
        }
      ],
      "source": [
        "import numpy as np\n",
        "list1=[1,2,3,4]\n",
        "array1=np.array(list1)\n",
        "list2=[5,6,7,8]\n",
        "array2=np.array(list2)\n",
        "\n",
        "print(\"multiplication of two:\",array1*array2)\n",
        "print(\"division of arrays\",array1/array2)\n",
        "print(\"array1 raised to the power of array2\",array1**array2)"
      ]
    }
  ]
}